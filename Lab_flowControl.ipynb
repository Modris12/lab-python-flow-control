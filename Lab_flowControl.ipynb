{
 "cells": [
  {
   "cell_type": "code",
   "execution_count": 15,
   "metadata": {},
   "outputs": [],
   "source": [
    "#1  \n",
    "products = [\"mug\",\"t-shirt\", \"hat\", \"book\", \"keychain\"]"
   ]
  },
  {
   "cell_type": "code",
   "execution_count": 16,
   "metadata": {},
   "outputs": [],
   "source": [
    "#2\n",
    "inventory = {}"
   ]
  },
  {
   "cell_type": "code",
   "execution_count": 20,
   "metadata": {},
   "outputs": [
    {
     "name": "stdout",
     "output_type": "stream",
     "text": [
      "{'t-shirt': 10, 'mug': 10, 'hat': 10, 'book': 10, 'keychain': 10}\n"
     ]
    }
   ],
   "source": [
    "inventory[\"t-shirt\"] = int(input(\"Enter the quantity for t-shirt: \")) \n",
    "inventory[\"mug\"] = int(input(\"Enter the quantity for mug: \")) \n",
    "inventory[\"hat\"] = int(input(\"Enter the quantity for hat: \"))\n",
    "inventory[\"book\"] = int(input(\"Enter the quantity for book: \"))\n",
    "inventory[\"keychain\"] = int(input(\"Enter the quantity for keychain: \"))\n",
    "print   (inventory)"
   ]
  },
  {
   "cell_type": "code",
   "execution_count": 21,
   "metadata": {},
   "outputs": [],
   "source": [
    "#4\n",
    "customer_orders = set()"
   ]
  },
  {
   "cell_type": "code",
   "execution_count": 22,
   "metadata": {},
   "outputs": [
    {
     "name": "stdout",
     "output_type": "stream",
     "text": [
      "Available products: mug, t-shirt, hat, book, keychain\n",
      "mug has been added to your order.\n",
      "hat has been added to your order.\n",
      "keychain has been added to your order.\n",
      "Invalid product name. Please choose from the available products.\n",
      "Invalid product name. Please choose from the available products.\n",
      "Thank you for your order!\n",
      "Your order: {'keychain', 'hat', 'mug'}\n"
     ]
    }
   ],
   "source": [
    "\n",
    "print(\"Available products:\", \", \".join(products))\n",
    "\n",
    "while True:  \n",
    "    product = input(f\"Enter the name of product {len(customer_orders) + 1}: \").strip().lower()\n",
    "    if product in products:\n",
    "        customer_orders.add(product)\n",
    "        print(f\"{product} has been added to your order.\")\n",
    "    else:\n",
    "        print(\"Invalid product name. Please choose from the available products.\")\n",
    "\n",
    "    \n",
    "    continue_o = input(\"Do you want to order something else? Enter 'yes' or 'no': \").strip().lower()\n",
    "    if continue_o == 'no':\n",
    "        print(\"Thank you for your order!\")\n",
    "        break  \n",
    "    elif continue_o != 'yes':\n",
    "        print(\"Invalid input. Please enter 'yes' or 'no'.\")\n",
    "\n",
    "print(\"Your order:\", customer_orders)\n",
    "\n"
   ]
  },
  {
   "cell_type": "code",
   "execution_count": 23,
   "metadata": {},
   "outputs": [
    {
     "name": "stdout",
     "output_type": "stream",
     "text": [
      "Order Statistics:\n",
      "Total Products Ordered: 3\n",
      "Percentage of Products Ordered: 60.00%\n"
     ]
    }
   ],
   "source": [
    "# 6\n",
    "total_products_ordered = len(customer_orders)\n",
    "\n",
    "percentage_ordered = (total_products_ordered / len(products)) * 100\n",
    "\n",
    "print(\"Order Statistics:\")\n",
    "print(f\"Total Products Ordered: {total_products_ordered}\")\n",
    "print(f\"Percentage of Products Ordered: {percentage_ordered:.2f}%\")"
   ]
  },
  {
   "cell_type": "code",
   "execution_count": 24,
   "metadata": {},
   "outputs": [],
   "source": [
    "for product in customer_orders:\n",
    "    if product in inventory and inventory[product] > 0:\n",
    "        inventory[product] -= 1\n",
    "    else:\n",
    "        print(f\"Product {product} is out of stock.\")"
   ]
  },
  {
   "cell_type": "code",
   "execution_count": 25,
   "metadata": {},
   "outputs": [
    {
     "name": "stdout",
     "output_type": "stream",
     "text": [
      "Updated Inventory:\n",
      "t-shirt: 10\n",
      "mug: 9\n",
      "hat: 9\n",
      "book: 10\n",
      "keychain: 9\n"
     ]
    }
   ],
   "source": [
    "print(\"Updated Inventory:\")\n",
    "for product, quantity in inventory.items():\n",
    "    print(f\"{product}: {quantity}\")"
   ]
  },
  {
   "cell_type": "code",
   "execution_count": null,
   "metadata": {},
   "outputs": [],
   "source": []
  }
 ],
 "metadata": {
  "kernelspec": {
   "display_name": "Python 3",
   "language": "python",
   "name": "python3"
  },
  "language_info": {
   "codemirror_mode": {
    "name": "ipython",
    "version": 3
   },
   "file_extension": ".py",
   "mimetype": "text/x-python",
   "name": "python",
   "nbconvert_exporter": "python",
   "pygments_lexer": "ipython3",
   "version": "3.13.1"
  }
 },
 "nbformat": 4,
 "nbformat_minor": 2
}
